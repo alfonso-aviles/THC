{
  "nbformat": 4,
  "nbformat_minor": 0,
  "metadata": {
    "colab": {
      "provenance": [],
      "include_colab_link": true
    },
    "kernelspec": {
      "name": "python3",
      "display_name": "Python 3"
    },
    "language_info": {
      "name": "python"
    }
  },
  "cells": [
    {
      "cell_type": "markdown",
      "metadata": {
        "id": "view-in-github",
        "colab_type": "text"
      },
      "source": [
        "<a href=\"https://colab.research.google.com/github/alfonso-aviles/THC/blob/main/Tarea3.ipynb\" target=\"_parent\"><img src=\"https://colab.research.google.com/assets/colab-badge.svg\" alt=\"Open In Colab\"/></a>"
      ]
    },
    {
      "cell_type": "code",
      "execution_count": null,
      "metadata": {
        "id": "tNJgzMUMLeMG"
      },
      "outputs": [],
      "source": [
        "import random"
      ]
    },
    {
      "cell_type": "markdown",
      "source": [
        "#Ejercicio 1: Juego de Piedra, Papel o Tijera\n",
        "\n",
        "Descripción: Escribe un programa que permita al usuario jugar Piedra, Papel o Tijera contra la computadora. El juego debe continuar hasta que el usuario decida salir. Usa un ciclo while y estructuras de control."
      ],
      "metadata": {
        "id": "1O33bD-IQYo6"
      }
    },
    {
      "cell_type": "code",
      "source": [
        "# Importamos el módulo random para que la computadora pueda elegir aleatoriamente\n",
        "import random\n",
        "\n",
        "# Inicializamos una variable para controlar si el usuario quiere seguir jugando\n",
        "seguir_jugando = True\n",
        "\n",
        "# Iniciamos un ciclo while que continuará hasta que el usuario decida salir\n",
        "while seguir_jugando:\n",
        "    # Mostramos las opciones al usuario\n",
        "    print(\"Elige una opción:\")\n",
        "    print(\"1. Piedra\")\n",
        "    print(\"2. Papel\")\n",
        "    print(\"3. Tijera\")\n",
        "    print(\"4. Salir\")\n",
        "\n",
        "    # Solicitamos la elección del usuario\n",
        "    eleccion_usuario = input(\"Ingresa el número de tu elección: \")\n",
        "\n",
        "    # Verificamos si el usuario quiere salir\n",
        "    if eleccion_usuario == \"4\":\n",
        "        print(\"¡Gracias por jugar! ¡Hasta luego!\")\n",
        "        seguir_jugando = False  # Cambiamos la variable para salir del ciclo\n",
        "        continue  # Saltamos al siguiente ciclo, que no se ejecutará porque seguir_jugando es False\n",
        "\n",
        "    # Convertimos la elección del usuario a un número entero\n",
        "    eleccion_usuario = int(eleccion_usuario)\n",
        "\n",
        "    # Verificamos si la elección del usuario es válida\n",
        "    if eleccion_usuario < 1 or eleccion_usuario > 3:\n",
        "        print(\"Elección no válida. Por favor, elige una opción entre 1 y 3.\")\n",
        "        continue  # Saltamos al siguiente ciclo para pedir una nueva elección\n",
        "\n",
        "    # La computadora elige aleatoriamente entre 1 (Piedra), 2 (Papel) y 3 (Tijera)\n",
        "    eleccion_computadora = random.randint(1, 3)\n",
        "\n",
        "    # Mostramos la elección de la computadora\n",
        "    print(f\"La computadora eligió: {eleccion_computadora}\")\n",
        "\n",
        "    # Determinamos el resultado del juego\n",
        "    if eleccion_usuario == eleccion_computadora:\n",
        "        print(\"¡Es un empate!\")\n",
        "    elif (eleccion_usuario == 1 and eleccion_computadora == 3) or \\\n",
        "         (eleccion_usuario == 2 and eleccion_computadora == 1) or \\\n",
        "         (eleccion_usuario == 3 and eleccion_computadora == 2):\n",
        "        print(\"¡Ganaste!\")\n",
        "    else:\n",
        "        print(\"¡La computadora ganó!\")\n",
        "\n",
        "    # Preguntamos al usuario si quiere jugar de nuevo\n",
        "    jugar_de_nuevo = input(\"¿Quieres jugar de nuevo? (s/n): \").lower()\n",
        "    if jugar_de_nuevo != 's':\n",
        "        print(\"¡Gracias por jugar! ¡Hasta luego!\")\n",
        "        seguir_jugando = False  # Cambiamos la variable para salir del ciclo"
      ],
      "metadata": {
        "id": "bQ9Np-IGQY5e",
        "colab": {
          "base_uri": "https://localhost:8080/"
        },
        "outputId": "6ffde1f2-1a0d-4158-9aa1-74e37301129b"
      },
      "execution_count": null,
      "outputs": [
        {
          "metadata": {
            "tags": null
          },
          "name": "stdout",
          "output_type": "stream",
          "text": [
            "Elige una opción:\n",
            "1. Piedra\n",
            "2. Papel\n",
            "3. Tijera\n",
            "4. Salir\n",
            "La computadora eligió: 2\n",
            "¡La computadora ganó!\n",
            "Elige una opción:\n",
            "1. Piedra\n",
            "2. Papel\n",
            "3. Tijera\n",
            "4. Salir\n",
            "La computadora eligió: 3\n",
            "¡Es un empate!\n",
            "Elige una opción:\n",
            "1. Piedra\n",
            "2. Papel\n",
            "3. Tijera\n",
            "4. Salir\n",
            "La computadora eligió: 2\n",
            "¡Es un empate!\n"
          ]
        }
      ]
    },
    {
      "cell_type": "markdown",
      "source": [
        "#Ejercicio 2: Factorial de un número positivo\n",
        "\n",
        "Descripción: Escribe un programa que calcule el factorial de un número natural que sea positivo. Para esto, debe validar que el número si sea natural, en caso contrario imprima un letrero que le indique al usuario que agregue un número natural en cinco intentos."
      ],
      "metadata": {
        "id": "NK5Iy2a2Qm5W"
      }
    },
    {
      "cell_type": "code",
      "source": [
        "# Inicializamos un contador para los intentos\n",
        "intentos = 0\n",
        "\n",
        "# Establecemos el número máximo de intentos\n",
        "max_intentos = 5\n",
        "\n",
        "# Iniciamos un ciclo while para permitir hasta 5 intentos\n",
        "while intentos < max_intentos:\n",
        "    # Solicitamos al usuario que ingrese un número natural\n",
        "    numero = input(\"Ingresa un número natural (entero positivo): \")\n",
        "\n",
        "    # Validamos si el número es un entero positivo\n",
        "    if numero.isdigit() and int(numero) > 0:\n",
        "        numero = int(numero)  # Convertimos el número a entero\n",
        "        factorial = 1  # Inicializamos la variable para almacenar el factorial\n",
        "\n",
        "        # Calculamos el factorial usando un ciclo for\n",
        "        for i in range(1, numero + 1):\n",
        "            factorial *= i  # Multiplicamos el factorial por cada número en el rango\n",
        "\n",
        "        # Mostramos el resultado del factorial\n",
        "        print(f\"El factorial de {numero} es: {factorial}\")\n",
        "        break  # Salimos del ciclo si el número es válido\n",
        "    else:\n",
        "        # Si el número no es válido, incrementamos el contador de intentos\n",
        "        intentos += 1\n",
        "        print(f\"Número no válido. Te quedan {max_intentos - intentos} intentos.\")\n",
        "\n",
        "# Si se agotan los intentos, mostramos un mensaje de error\n",
        "if intentos == max_intentos:\n",
        "    print(\"Has agotado tus 5 intentos. Por favor, ejecuta el programa nuevamente.\")"
      ],
      "metadata": {
        "id": "nY5HE7jqRVdt"
      },
      "execution_count": null,
      "outputs": []
    },
    {
      "cell_type": "markdown",
      "source": [
        "#Ejercicio 3: Números de Fibonacci\n",
        "\n",
        "Descripción: Escribe un programa que genere los primeros n números de la secuencia de Fibonacci, donde n es un número ingresado por el usuario. Usa un ciclo for."
      ],
      "metadata": {
        "id": "dSWucu8mRcXu"
      }
    },
    {
      "cell_type": "code",
      "source": [
        "# Solicitamos al usuario que ingrese un número entero positivo\n",
        "n = int(input(\"Ingresa un número entero positivo para generar la secuencia de Fibonacci: \"))\n",
        "\n",
        "# Verificamos que el número ingresado sea válido (mayor que 0)\n",
        "if n <= 0:\n",
        "    print(\"Por favor, ingresa un número entero positivo.\")\n",
        "else:\n",
        "    # Inicializamos los dos primeros números de la secuencia de Fibonacci\n",
        "    a, b = 0, 1\n",
        "\n",
        "    # Imprimimos un mensaje indicando cuántos números de la secuencia se generarán\n",
        "    print(f\"Los primeros {n} números de la secuencia de Fibonacci son:\")\n",
        "\n",
        "    # Usamos un ciclo for para generar la secuencia\n",
        "    for i in range(n):\n",
        "        # Imprimimos el valor actual de 'a' (el número actual en la secuencia)\n",
        "        print(a, end=\" \")\n",
        "\n",
        "        # Actualizamos los valores de 'a' y 'b' para el siguiente número en la secuencia\n",
        "        a, b = b, a + b"
      ],
      "metadata": {
        "id": "-FEWtPaoRdlW"
      },
      "execution_count": null,
      "outputs": []
    },
    {
      "cell_type": "markdown",
      "source": [
        "#Ejercicio 4: Números primos\n",
        "\n",
        "Descripción: Escribe un programa que diga si un número es primo o no."
      ],
      "metadata": {
        "id": "XDd7xUWKTPbX"
      }
    },
    {
      "cell_type": "code",
      "source": [
        "# Solicitamos al usuario que ingrese un número entero positivo\n",
        "numero = int(input(\"Ingresa un número entero positivo: \"))\n",
        "\n",
        "# Verificamos si el número es menor o igual a 1, ya que los números primos son mayores que 1\n",
        "if numero <= 1:\n",
        "    print(f\"{numero} no es un número primo.\")\n",
        "else:\n",
        "    # Inicializamos una variable para verificar si el número es primo\n",
        "    es_primo = True\n",
        "\n",
        "    # Usamos un ciclo for para verificar si el número es divisible por algún número entre 2 y la raíz cuadrada del número\n",
        "    for i in range(2, int(numero**0.5) + 1):\n",
        "        # Si el número es divisible por 'i', no es primo\n",
        "        if numero % i == 0:\n",
        "            es_primo = False\n",
        "            break  # Salimos del ciclo si encontramos un divisor\n",
        "\n",
        "    # Verificamos el valor de la variable 'es_primo' para determinar si el número es primo o no\n",
        "    if es_primo:\n",
        "        print(f\"{numero} es un número primo.\")\n",
        "    else:\n",
        "        print(f\"{numero} no es un número primo.\")"
      ],
      "metadata": {
        "id": "z1_3-exBRfs-"
      },
      "execution_count": null,
      "outputs": []
    },
    {
      "cell_type": "markdown",
      "source": [
        "#Ejercicio5 : Clasificación de edades\n",
        "\n",
        "Descripción: Escribe un programa que clasifique a un grupo de personas según su edad. El programa debe pedir al usuario la edad de varias personas (hasta que ingrese \"fin\") y luego mostrar cuántas personas pertenecen a cada categoría:\n",
        "\n",
        "Niño: Menos de 13 años.\n",
        "\n",
        "Adolescente: Entre 13 y 17 años.\n",
        "\n",
        "Adulto: Entre 18 y 64 años.\n",
        "\n",
        "Adulto mayor: 65 años o más."
      ],
      "metadata": {
        "id": "CXmjZ8iLTWvW"
      }
    },
    {
      "cell_type": "code",
      "source": [
        "# Inicializamos contadores para cada categoría de edad\n",
        "niños = 0\n",
        "adolescentes = 0\n",
        "adultos = 0\n",
        "adultos_mayores = 0\n",
        "\n",
        "# Iniciamos un ciclo while para pedir edades hasta que el usuario ingrese \"fin\"\n",
        "while True:\n",
        "    # Solicitamos al usuario que ingrese la edad o \"fin\" para terminar\n",
        "    entrada = input(\"Ingresa la edad de la persona (o escribe 'fin' para terminar): \")\n",
        "\n",
        "    # Verificamos si el usuario quiere terminar\n",
        "    if entrada.lower() == \"fin\":\n",
        "        break  # Salimos del ciclo si el usuario ingresa \"fin\"\n",
        "\n",
        "    # Convertimos la entrada a un número entero\n",
        "    edad = int(entrada)\n",
        "\n",
        "    # Clasificamos la edad en las categorías correspondientes\n",
        "    if edad < 13:\n",
        "        niños += 1  # Incrementamos el contador de niños\n",
        "    elif 13 <= edad <= 17:\n",
        "        adolescentes += 1  # Incrementamos el contador de adolescentes\n",
        "    elif 18 <= edad <= 64:\n",
        "        adultos += 1  # Incrementamos el contador de adultos\n",
        "    else:\n",
        "        adultos_mayores += 1  # Incrementamos el contador de adultos mayores\n",
        "\n",
        "# Mostramos los resultados de la clasificación\n",
        "print(\"\\nResumen de clasificación por edades:\")\n",
        "print(f\"Niños (menos de 13 años): {niños}\")\n",
        "print(f\"Adolescentes (13 a 17 años): {adolescentes}\")\n",
        "print(f\"Adultos (18 a 64 años): {adultos}\")\n",
        "print(f\"Adultos mayores (65 años o más): {adultos_mayores}\")"
      ],
      "metadata": {
        "id": "DRgNPtDyTXCm"
      },
      "execution_count": null,
      "outputs": []
    }
  ]
}