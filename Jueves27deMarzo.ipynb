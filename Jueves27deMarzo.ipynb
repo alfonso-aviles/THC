{
  "nbformat": 4,
  "nbformat_minor": 0,
  "metadata": {
    "colab": {
      "provenance": [],
      "authorship_tag": "ABX9TyM1gUZbAabQ5H4WlDP4CzTm",
      "include_colab_link": true
    },
    "kernelspec": {
      "name": "python3",
      "display_name": "Python 3"
    },
    "language_info": {
      "name": "python"
    }
  },
  "cells": [
    {
      "cell_type": "markdown",
      "metadata": {
        "id": "view-in-github",
        "colab_type": "text"
      },
      "source": [
        "<a href=\"https://colab.research.google.com/github/alfonso-aviles/THC/blob/main/Jueves27deMarzo.ipynb\" target=\"_parent\"><img src=\"https://colab.research.google.com/assets/colab-badge.svg\" alt=\"Open In Colab\"/></a>"
      ]
    },
    {
      "cell_type": "code",
      "execution_count": null,
      "metadata": {
        "colab": {
          "base_uri": "https://localhost:8080/"
        },
        "id": "oU3dnSC7_BwN",
        "outputId": "4fa8d21c-3d58-4728-8ca1-b492abca30f3"
      },
      "outputs": [
        {
          "output_type": "stream",
          "name": "stdout",
          "text": [
            "Dame una palabra: amigos\n",
            "Tu palabra es amigos!\n",
            "Tu palabra encriptada es 2a$m@i!g%o#s!\n"
          ]
        }
      ],
      "source": [
        "import random\n",
        "\n",
        "word=input(\"Dame una palabra: \")\n",
        "print(\"Tu palabra es \" + word + \"!\")\n",
        "\n",
        "chars=[\"#\",\"%\",\"@\",\"$\",\"!\",\"2\"]\n",
        "\n",
        "random.shuffle(chars)\n",
        "\n",
        "Encword=\"\"\n",
        "lw=len(word)\n",
        "for i in range(lw):\n",
        "  j=i%len(chars)\n",
        "  Encword+=chars[j]+word[i]\n",
        "\n",
        "print(\"Tu palabra encriptada es \" + Encword + \"!\")"
      ]
    },
    {
      "cell_type": "code",
      "source": [
        "def mi_funcion(nombre):\n",
        "  if type(nombre)==str:\n",
        "    print(\"Hola mundo \" + nombre)\n",
        "  else:\n",
        "    print(\"Necesita una cadena\")\n",
        "\n",
        "mi_funcion=input(\"Dame tu nombre: \")"
      ],
      "metadata": {
        "colab": {
          "base_uri": "https://localhost:8080/"
        },
        "id": "x-7ziWTFAdDd",
        "outputId": "554902d8-67ac-4e79-dbc2-796ee81fd394"
      },
      "execution_count": null,
      "outputs": [
        {
          "name": "stdout",
          "output_type": "stream",
          "text": [
            "Dame tu nombre: alf\n"
          ]
        }
      ]
    }
  ]
}