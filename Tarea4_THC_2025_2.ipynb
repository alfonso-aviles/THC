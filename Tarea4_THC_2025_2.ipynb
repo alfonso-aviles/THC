{
  "nbformat": 4,
  "nbformat_minor": 0,
  "metadata": {
    "colab": {
      "provenance": [],
      "include_colab_link": true
    },
    "kernelspec": {
      "name": "python3",
      "display_name": "Python 3"
    },
    "language_info": {
      "name": "python"
    }
  },
  "cells": [
    {
      "cell_type": "markdown",
      "metadata": {
        "id": "view-in-github",
        "colab_type": "text"
      },
      "source": [
        "<a href=\"https://colab.research.google.com/github/alfonso-aviles/THC/blob/main/Tarea4_THC_2025_2.ipynb\" target=\"_parent\"><img src=\"https://colab.research.google.com/assets/colab-badge.svg\" alt=\"Open In Colab\"/></a>"
      ]
    },
    {
      "cell_type": "markdown",
      "source": [
        "<font color=\"Red\" face=\"Comic Sans MS,arial\">\n",
        "  <h1 align=\"center\"><i>Tarea 4 de Python </i></h1>\n",
        "  </font>\n",
        "  \n",
        "> Elaborado por:\n",
        "\n",
        "> Miguel Ángel Carrillo Lucía. miguelcarrillo15@ciencias.unam.mx\n",
        "\n",
        "> Jesús Iván Coss Calderón. mat_ing_coss@ciencias.unam.mx"
      ],
      "metadata": {
        "id": "Acw5GbRohNTA"
      }
    },
    {
      "cell_type": "markdown",
      "source": [
        "**Objetivo general**\n",
        "\n",
        "* Demostrar los conocimientos adquiridos de bucles, listas y estructuras de control.\n",
        "\n",
        "**Objetivos particulares**\n",
        "\n",
        "* Aprender a resolver problemas prácticos usando python"
      ],
      "metadata": {
        "id": "-4IW6Nx2jBHt"
      }
    },
    {
      "cell_type": "markdown",
      "source": [
        "#**Ejercicio 1**:\n",
        "Diseña un programa que convierta dólares americanos a pesos mexicanos, euros, libras\n",
        "esterlinas, yuanes y rublos utilizando una tasa de cambio fija. Muestre la tasa de cambio e imprima los cinco resultados.\n"
      ],
      "metadata": {
        "id": "QZ7aCHF0TYtT"
      }
    },
    {
      "cell_type": "code",
      "source": [
        "# Tasas de cambio fijas (valores aproximados)\n",
        "TASA_MXN = 20.0  # 1 USD = 20 pesos mexicanos\n",
        "TASA_EUR = 0.85   # 1 USD = 0.85 euros\n",
        "TASA_GBP = 0.72   # 1 USD = 0.72 libras esterlinas\n",
        "TASA_CNY = 6.45   # 1 USD = 6.45 yuanes\n",
        "TASA_RUB = 75.0   # 1 USD = 75 rublos\n",
        "\n",
        "def convertir_dolares(dolares):\n",
        "    \"\"\"Convierte dólares a otras monedas usando tasas fijas\"\"\"\n",
        "    pesos_mxn = dolares * TASA_MXN\n",
        "    euros = dolares * TASA_EUR\n",
        "    libras = dolares * TASA_GBP\n",
        "    yuanes = dolares * TASA_CNY\n",
        "    rublos = dolares * TASA_RUB\n",
        "\n",
        "    return pesos_mxn, euros, libras, yuanes, rublos\n",
        "\n",
        "def main():\n",
        "    print(\"Conversor de Dólares Americanos a Otras Monedas\")\n",
        "    print(\"Tasas de cambio fijas:\")\n",
        "    print(f\"1 USD = {TASA_MXN} MXN (pesos mexicanos)\")\n",
        "    print(f\"1 USD = {TASA_EUR} EUR (euros)\")\n",
        "    print(f\"1 USD = {TASA_GBP} GBP (libras esterlinas)\")\n",
        "    print(f\"1 USD = {TASA_CNY} CNY (yuanes)\")\n",
        "    print(f\"1 USD = {TASA_RUB} RUB (rublos)\\n\")\n",
        "\n",
        "    try:\n",
        "        dolares = float(input(\"Ingrese la cantidad en dólares americanos (USD): \"))\n",
        "        if dolares < 0:\n",
        "            print(\"Por favor ingrese una cantidad positiva.\")\n",
        "            return\n",
        "\n",
        "        mxn, eur, gbp, cny, rub = convertir_dolares(dolares)\n",
        "\n",
        "        print(\"\\nResultados de la conversión:\")\n",
        "        print(f\"{dolares:.2f} USD = {mxn:.2f} MXN\")\n",
        "        print(f\"{dolares:.2f} USD = {eur:.2f} EUR\")\n",
        "        print(f\"{dolares:.2f} USD = {gbp:.2f} GBP\")\n",
        "        print(f\"{dolares:.2f} USD = {cny:.2f} CNY\")\n",
        "        print(f\"{dolares:.2f} USD = {rub:.2f} RUB\")\n",
        "\n",
        "    except ValueError:\n",
        "        print(\"Error: Por favor ingrese un número válido.\")\n",
        "\n",
        "main()"
      ],
      "metadata": {
        "id": "5qLKEO7rlMPw"
      },
      "execution_count": null,
      "outputs": []
    },
    {
      "cell_type": "markdown",
      "source": [
        "#**Ejercicio 2**:\n",
        "Desarrolla un programa que calcule el precio final de un producto después de aplicar un descuento.\n",
        " El usuario debe ingresar el precio original y el porcentaje de descuento. Imprima el precio final."
      ],
      "metadata": {
        "id": "oM_h9APNTIW9"
      }
    },
    {
      "cell_type": "code",
      "source": [
        "def es_numero(valor):\n",
        "    \"\"\"Valida si el valor ingresado es un número\"\"\"\n",
        "    # Reemplaza comas por puntos para permitir ambos formatos decimales\n",
        "    valor = valor.replace(',', '.')\n",
        "    # Verifica si todos los caracteres son dígitos o puntos decimales\n",
        "    if valor.replace('.', '').isdigit() and valor.count('.') <= 1:\n",
        "        return True\n",
        "    return False\n",
        "\n",
        "def calcular_precio_final():\n",
        "    print(\"CALCULADORA DE DESCUENTOS\")\n",
        "    print(\"-------------------------\")\n",
        "\n",
        "    # Solicitar precio original con validación\n",
        "    while True:\n",
        "        precio = input(\"Ingrese el precio original del producto: \")\n",
        "        if es_numero(precio):\n",
        "            precio = float(precio.replace(',', '.'))\n",
        "            if precio > 0:\n",
        "                break\n",
        "            else:\n",
        "                print(\"El precio debe ser mayor que cero.\")\n",
        "        else:\n",
        "            print(\"Error: Debe ingresar un valor numérico válido.\")\n",
        "\n",
        "    # Solicitar porcentaje de descuento con validación\n",
        "    while True:\n",
        "        descuento = input(\"Ingrese el porcentaje de descuento (0-100%): \")\n",
        "        if es_numero(descuento):\n",
        "            descuento = float(descuento.replace(',', '.'))\n",
        "            if 0 <= descuento <= 100:\n",
        "                break\n",
        "            else:\n",
        "                print(\"El descuento debe estar entre 0 y 100%.\")\n",
        "        else:\n",
        "            print(\"Error: Debe ingresar un valor numérico válido.\")\n",
        "\n",
        "    # Calcular precio final\n",
        "    monto_descuento = precio * (descuento / 100)\n",
        "    precio_final = precio - monto_descuento\n",
        "\n",
        "    # Mostrar resultados\n",
        "    print(\"\\nRESULTADO:\")\n",
        "    print(f\"Precio original: ${precio:.2f}\")\n",
        "    print(f\"Descuento aplicado: {descuento}%\")\n",
        "    print(f\"Monto descontado: ${monto_descuento:.2f}\")\n",
        "    print(f\"Precio final: ${precio_final:.2f}\")\n",
        "\n",
        "# Ejecutar el programa\n",
        "calcular_precio_final()"
      ],
      "metadata": {
        "id": "35HdkpszBouq"
      },
      "execution_count": null,
      "outputs": []
    },
    {
      "cell_type": "markdown",
      "source": [
        "#**Ejercicio 3**:\n",
        "Crea un script que determine cuál de tres números introducidos por el usuario es el mayor,\n",
        "usando sentencias IF anidadas o múltiples ELIF."
      ],
      "metadata": {
        "id": "pXTw_US7UIhy"
      }
    },
    {
      "cell_type": "code",
      "source": [
        "def encontrar_mayor():\n",
        "    print(\"\\nIDENTIFICADOR DEL NÚMERO MAYOR\")\n",
        "    print(\"----------------------------------------------------\")\n",
        "\n",
        "    # Solicitar los tres números\n",
        "    a = float(input(\"Ingrese el primer número: \"))\n",
        "    b = float(input(\"Ingrese el segundo número: \"))\n",
        "    c = float(input(\"Ingrese el tercer número: \"))\n",
        "\n",
        "    # Determinar el mayor usando múltiples elif\n",
        "    if a >= b and a >= c:\n",
        "        mayor = a\n",
        "    elif b >= a and b >= c:\n",
        "        mayor = b\n",
        "    else:\n",
        "        mayor = c\n",
        "\n",
        "    # Mostrar resultado\n",
        "    print(f\"\\nDe los números ingresados: {a}, {b} y {c}\")\n",
        "    print(f\"El número mayor es: {mayor}\")\n",
        "\n",
        "# Ejecutar la versión\n",
        "encontrar_mayor()"
      ],
      "metadata": {
        "id": "oSJXRXBb8Gck"
      },
      "execution_count": null,
      "outputs": []
    },
    {
      "cell_type": "markdown",
      "source": [
        "#**Ejercicio 4**:\n",
        "Programe una función que resuelva ecuaciones de segundo grado utilizando la fórmula general.\n",
        "El usuario debe ingresar los valores de a, b y c. Genere valores por default por si el usuario no ingresa\n",
        "un número entero o flotante. Además, calcule el valor del discriminante\n",
        "(b^2 - 4ac) y determine si tiene soluciones reales, soluciones complejas. Imprima el resultado."
      ],
      "metadata": {
        "id": "LJgQNYz1Tmaj"
      }
    },
    {
      "cell_type": "code",
      "source": [
        "def resolver_ecuacion():\n",
        "    print(\"SOLUCIONADOR DE ECUACIONES DE SEGUNDO GRADO\")\n",
        "    print(\"Forma general: ax² + bx + c = 0\")\n",
        "    print(\"-------------------------------------------\")\n",
        "\n",
        "    # Función para obtener coeficientes con valores por defecto\n",
        "    def obtener_coeficiente(mensaje, default=1):\n",
        "        valor = input(mensaje)\n",
        "        if valor.replace('.', '').replace('-', '').isdigit() and valor.count('.') <= 1:\n",
        "            return float(valor)\n",
        "        print(f\"Valor no válido. Se usará {default} como valor por defecto.\")\n",
        "        return default\n",
        "\n",
        "    # Obtener coeficientes con validación y valores por defecto\n",
        "    a = obtener_coeficiente(\"Ingrese el coeficiente a: \", 1.0)\n",
        "    b = obtener_coeficiente(\"Ingrese el coeficiente b: \", 0.0)\n",
        "    c = obtener_coeficiente(\"Ingrese el coeficiente c: \", 0.0)\n",
        "\n",
        "    # Calcular discriminante\n",
        "    discriminante = b**2 - 4*a*c\n",
        "\n",
        "    print(f\"\\nEcuación: {a}x² + {b}x + {c} = 0\")\n",
        "    print(f\"Discriminante (Δ) = {discriminante}\")\n",
        "\n",
        "    # Determinar el tipo de soluciones\n",
        "    if discriminante > 0:\n",
        "        print(\"Tiene dos soluciones reales distintas.\")\n",
        "        x1 = (-b + (discriminante**0.5)) / (2*a)\n",
        "        x2 = (-b - (discriminante**0.5)) / (2*a)\n",
        "        print(f\"Solución x₁ = {x1:.4f}\")\n",
        "        print(f\"Solución x₂ = {x2:.4f}\")\n",
        "    elif discriminante == 0:\n",
        "        print(\"Tiene una solución real doble.\")\n",
        "        x = -b / (2*a)\n",
        "        print(f\"Solución única x = {x:.4f}\")\n",
        "    else:\n",
        "        print(\"Tiene dos soluciones complejas conjugadas.\")\n",
        "        real = -b / (2*a)\n",
        "        imaginario = ((-discriminante)**0.5) / (2*a)\n",
        "        print(f\"Solución x₁ = {real:.4f} + {imaginario:.4f}i\")\n",
        "        print(f\"Solución x₂ = {real:.4f} - {imaginario:.4f}i\")\n",
        "\n",
        "# Ejecutar el solucionador\n",
        "resolver_ecuacion()"
      ],
      "metadata": {
        "id": "L1CQPnlC8G9c",
        "colab": {
          "base_uri": "https://localhost:8080/"
        },
        "outputId": "c535556c-b0b7-458f-f25e-bd8546f8d430"
      },
      "execution_count": 13,
      "outputs": [
        {
          "output_type": "stream",
          "name": "stdout",
          "text": [
            "SOLUCIONADOR DE ECUACIONES DE SEGUNDO GRADO\n",
            "Forma general: ax² + bx + c = 0\n",
            "-------------------------------------------\n",
            "Ingrese el coeficiente a: 2\n",
            "Ingrese el coeficiente b: 3\n",
            "Ingrese el coeficiente c: 4\n",
            "\n",
            "Ecuación: 2.0x² + 3.0x + 4.0 = 0\n",
            "Discriminante (Δ) = -23.0\n",
            "Tiene dos soluciones complejas conjugadas.\n",
            "Solución x₁ = -0.7500 + 1.1990i\n",
            "Solución x₂ = -0.7500 - 1.1990i\n"
          ]
        }
      ]
    },
    {
      "cell_type": "markdown",
      "source": [
        "#**Ejercicio 5**\n",
        "\n",
        " Escriba una función que reciba una lista de números y devuelva dos listas: una con los números positivos y otra con los negativos."
      ],
      "metadata": {
        "id": "1VC6sG1wix_2"
      }
    },
    {
      "cell_type": "code",
      "source": [
        "def separar_positivos_negativos(lista_numeros):\n",
        "    \"\"\"\n",
        "    Separa una lista de números en dos listas: positivos y negativos.\n",
        "\n",
        "    Parámetros:\n",
        "    lista_numeros (list): Lista de números a separar\n",
        "\n",
        "    Retorna:\n",
        "    tuple: (positivos, negativos) - dos listas con números positivos y negativos respectivamente\n",
        "    \"\"\"\n",
        "    positivos = []\n",
        "    negativos = []\n",
        "\n",
        "    for numero in lista_numeros:\n",
        "        if numero >= 0:\n",
        "            positivos.append(numero)\n",
        "        else:\n",
        "            negativos.append(numero)\n",
        "\n",
        "    return positivos, negativos\n",
        "\n",
        "# Prueba con una lista de números\n",
        "numeros = [5, -3, 2, -8, 0, 4, -1, 7, -6]\n",
        "positivos, negativos = separar_positivos_negativos(numeros)\n",
        "\n",
        "print(f\"Lista original: {numeros}\")\n",
        "print(f\"Números positivos: {positivos}\")\n",
        "print(f\"Números negativos: {negativos}\")"
      ],
      "metadata": {
        "id": "j-nKpLKG8HdU",
        "colab": {
          "base_uri": "https://localhost:8080/"
        },
        "outputId": "a4b0488d-05f1-4f1d-f3c3-b0a9182f63c4"
      },
      "execution_count": 2,
      "outputs": [
        {
          "output_type": "stream",
          "name": "stdout",
          "text": [
            "Lista original: [5, -3, 2, -8, 0, 4, -1, 7, -6]\n",
            "Números positivos: [5, 2, 0, 4, 7]\n",
            "Números negativos: [-3, -8, -1, -6]\n"
          ]
        }
      ]
    },
    {
      "cell_type": "markdown",
      "source": [
        "#**Ejercicio 6**\n",
        "\n",
        "Escriba una función que reciba una lista de datos (la de abajo) y devuelva listas con los datos filtrados. Este programa debe separar los datos en **int**, **str**, **bool**, **float**. **Hint**: use la función **append** para insertar datos en las listas."
      ],
      "metadata": {
        "id": "B3DOqZgpjxMf"
      }
    },
    {
      "cell_type": "code",
      "source": [
        "Datos= [5, 2.4, \"hola\", 7, 10, 3.14,True,False, \"Hi\", 0, 0.265]# lista a usar"
      ],
      "metadata": {
        "id": "5zQMRLNYis12"
      },
      "execution_count": 6,
      "outputs": []
    },
    {
      "cell_type": "code",
      "source": [
        "def clasificar_datos(lista_datos):\n",
        "    \"\"\"\n",
        "    Clasifica los elementos de una lista según su tipo de dato.\n",
        "\n",
        "    Parámetros:\n",
        "    lista_datos (list): Lista con elementos de diferentes tipos\n",
        "\n",
        "    Retorna:\n",
        "    tuple: (enteros, flotantes, cadenas, booleanos) - cuatro listas con los datos clasificados\n",
        "    \"\"\"\n",
        "    enteros = []\n",
        "    flotantes = []\n",
        "    cadenas = []\n",
        "    booleanos = []\n",
        "\n",
        "    for dato in lista_datos:\n",
        "        if type(dato) == int and not isinstance(dato, bool):  # bool es subclase de int\n",
        "            enteros.append(dato)\n",
        "        elif type(dato) == float:\n",
        "            flotantes.append(dato)\n",
        "        elif type(dato) == str:\n",
        "            cadenas.append(dato)\n",
        "        elif type(dato) == bool:\n",
        "            booleanos.append(dato)\n",
        "\n",
        "    return enteros, flotantes, cadenas, booleanos\n",
        "\n",
        "\n",
        "# Clasificar los datos\n",
        "ints, floats, strs, bools = clasificar_datos(Datos)\n",
        "\n",
        "# Mostrar resultados\n",
        "print(\"Datos originales:\", Datos)\n",
        "print(\"\\nDatos clasificados:\")\n",
        "print(\"Enteros:\", ints)\n",
        "print(\"Flotantes:\", floats)\n",
        "print(\"Cadenas:\", strs)\n",
        "print(\"Booleanos:\", bools)\n",
        "print(\"\\nNota: None y listas no se incluyen en ninguna categoría\")"
      ],
      "metadata": {
        "id": "0HH0Debs8Joc",
        "colab": {
          "base_uri": "https://localhost:8080/"
        },
        "outputId": "a110f713-ff21-4a60-c4b9-4b1a05882871"
      },
      "execution_count": 7,
      "outputs": [
        {
          "output_type": "stream",
          "name": "stdout",
          "text": [
            "Datos originales: [5, 2.4, 'hola', 7, 10, 3.14, True, False, 'Hi', 0, 0.265]\n",
            "\n",
            "Datos clasificados:\n",
            "Enteros: [5, 7, 10, 0]\n",
            "Flotantes: [2.4, 3.14, 0.265]\n",
            "Cadenas: ['hola', 'Hi']\n",
            "Booleanos: [True, False]\n",
            "\n",
            "Nota: None y listas no se incluyen en ninguna categoría\n"
          ]
        }
      ]
    },
    {
      "cell_type": "markdown",
      "source": [
        "#**Ejercicio 7**:\n",
        "\n",
        "Imprimir pirámide de asteriscos\n",
        "Descripción: Crea una función que imprima una pirámide de asteriscos usando bucles anidados, donde el número de niveles de la pirámide sea un valor dado."
      ],
      "metadata": {
        "id": "Q7XYGpfGkuD4"
      }
    },
    {
      "cell_type": "code",
      "source": [
        "def imprimir_piramide(niveles):\n",
        "    \"\"\"\n",
        "    Imprime una pirámide de asteriscos con el número de niveles especificado.\n",
        "\n",
        "    Parámetros:\n",
        "    niveles (int): Número de niveles de la pirámide\n",
        "    \"\"\"\n",
        "    for i in range(1, niveles + 1):\n",
        "        # Imprimir espacios en blanco para alinear\n",
        "        print(' ' * (niveles - i), end='')\n",
        "\n",
        "        # Imprimir asteriscos\n",
        "        print('*' * (2 * i - 1))\n",
        "\n",
        "try:\n",
        "    niveles = int(input(\"Ingrese el número de niveles para la pirámide: \"))\n",
        "    if niveles > 0:\n",
        "        imprimir_piramide(niveles)\n",
        "    else:\n",
        "        print(\"El número de niveles debe ser positivo.\")\n",
        "except ValueError:\n",
        "    print(\"Por favor ingrese un número entero válido.\")"
      ],
      "metadata": {
        "colab": {
          "base_uri": "https://localhost:8080/"
        },
        "id": "lKlZ67KRkXwn",
        "outputId": "34bd56b8-3922-4eb5-ca6a-cf82c7de34c6"
      },
      "execution_count": 9,
      "outputs": [
        {
          "output_type": "stream",
          "name": "stdout",
          "text": [
            "Ingrese el número de niveles para la pirámide: 3\n",
            "  *\n",
            " ***\n",
            "*****\n"
          ]
        }
      ]
    },
    {
      "cell_type": "markdown",
      "source": [
        "#**Ejercicio 8**:\n",
        "\n",
        "Utilizando listas, diccionarios y fuciones Lambda, programe un reloj mundial, en el que ingrese como\n",
        "entrada la hora de la Ciudad de México y muestre la hora en las siguientes ciudades:\n",
        "\n",
        "Tokio, Japón\n",
        "\n",
        "Pekín, China\n",
        "\n",
        "Dusambé, Tayikistán\n",
        "\n",
        "Perth, Australia\n",
        "\n",
        "Katmandú, Nepal\n",
        "\n",
        "Vilna, Lituania\n",
        "\n",
        "Freetown, Sierra Leona\n",
        "\n",
        "Rio de Janeiro, Brasil\n",
        "\n",
        "Tegucigalpa, Honduras\n",
        "\n",
        "Kinsgton, Jamaica\n",
        "\n",
        "Los Ángeles, EUA\n",
        "\n",
        "Documente los procesos esenciales del código.\n",
        "Mucho ojo. Al pasar las 24 horas (00:00 horas) se debe hacer la diferencia (o suma) para que no obtengan horas mayores a 24."
      ],
      "metadata": {
        "id": "xL6YMsdClOy9"
      }
    },
    {
      "cell_type": "code",
      "source": [
        "# Función para calcular la hora mundial\n",
        "def calcular_hora_mundial(hora_mexico, minutos_mexico):\n",
        "    \"\"\"\n",
        "    Calcula la hora en diferentes ciudades del mundo basado en la hora de Ciudad de México.\n",
        "\n",
        "    Parámetros:\n",
        "    hora_mexico (int): Hora en Ciudad de México (formato 24h)\n",
        "    minutos_mexico (int): Minutos en Ciudad de México\n",
        "\n",
        "    Retorna:\n",
        "    dict: Diccionario con las horas en cada ciudad\n",
        "    \"\"\"\n",
        "    # Diccionario de diferencias horarias (horas) respecto a Ciudad de México\n",
        "    diferencias = {\n",
        "        'Tokio, Japón': 15,\n",
        "        'Pekín, China': 14,\n",
        "        'Dusambé, Tayikistán': 11,\n",
        "        'Perth, Australia': 14,\n",
        "        'Katmandú, Nepal': 11.75,  # 11 horas y 45 minutos\n",
        "        'Vilna, Lituania': 8,\n",
        "        'Freetown, Sierra Leona': 6,\n",
        "        'Rio de Janeiro, Brasil': 2,\n",
        "        'Tegucigalpa, Honduras': 0,\n",
        "        'Kingston, Jamaica': 1,\n",
        "        'Los Ángeles, EUA': -2\n",
        "    }\n",
        "\n",
        "    # Función lambda para ajustar la hora a formato 24h\n",
        "    ajustar_hora = lambda h, m: ((h + (m // 60)) % 24, m % 60)\n",
        "\n",
        "    # Calcular hora para cada ciudad\n",
        "    horas_mundo = {}\n",
        "    for ciudad, diff in diferencias.items():\n",
        "        # Separar parte entera y decimal de la diferencia\n",
        "        diff_horas = int(diff)\n",
        "        diff_minutos = int((diff - diff_horas) * 60)\n",
        "\n",
        "        # Calcular nueva hora y minutos\n",
        "        nueva_hora = hora_mexico + diff_horas\n",
        "        nuevos_minutos = minutos_mexico + diff_minutos\n",
        "\n",
        "        # Ajustar a formato 24h\n",
        "        hora_ajustada, minutos_ajustados = ajustar_hora(nueva_hora, nuevos_minutos)\n",
        "\n",
        "        # Formatear a cadena de texto\n",
        "        horas_mundo[ciudad] = f\"{hora_ajustada:02d}:{minutos_ajustados:02d}\"\n",
        "\n",
        "    return horas_mundo\n",
        "\n",
        "# Función principal\n",
        "def main():\n",
        "    print(\"RELOJ MUNDIAL - Hora actual en Ciudad de México\")\n",
        "    print(\"-----------------------------------------------\")\n",
        "\n",
        "    try:\n",
        "        # Obtener hora de entrada\n",
        "        hora = int(input(\"Ingrese la hora (0-23): \"))\n",
        "        minutos = int(input(\"Ingrese los minutos (0-59): \"))\n",
        "\n",
        "        # Validar entrada\n",
        "        if not (0 <= hora <= 23 and 0 <= minutos <= 59):\n",
        "            raise ValueError(\"Hora o minutos fuera de rango\")\n",
        "\n",
        "        # Calcular horas mundiales\n",
        "        horas = calcular_hora_mundial(hora, minutos)\n",
        "\n",
        "        # Mostrar resultados\n",
        "        print(\"\\nHora en diferentes ciudades:\")\n",
        "        for ciudad, hora in horas.items():\n",
        "            print(f\"{ciudad}: {hora}\")\n",
        "\n",
        "    except ValueError as e:\n",
        "        print(f\"Error: {str(e)}\")\n",
        "\n",
        "# Ejecutar programa\n",
        "main()"
      ],
      "metadata": {
        "id": "JYhyNp21l43j"
      },
      "execution_count": null,
      "outputs": []
    },
    {
      "cell_type": "markdown",
      "source": [
        "#**Ejercicio 9**:\n",
        "Programar una función que calcule la distancia entre dos puntos en el plano cartesiano,\n",
        "dadas sus coordenadas (x1, y1) y (x2, y2)."
      ],
      "metadata": {
        "id": "8z6e_aduTxWh"
      }
    },
    {
      "cell_type": "code",
      "source": [
        "import math\n",
        "\n",
        "def distancia_entre_puntos(x1, y1, x2, y2):\n",
        "    \"\"\"\n",
        "    Calcula la distancia entre dos puntos en el plano cartesiano.\n",
        "\n",
        "    Fórmula:\n",
        "    distancia = √[(x2 - x1)² + (y2 - y1)²]\n",
        "\n",
        "    Parámetros:\n",
        "    x1, y1: Coordenadas del primer punto (P1)\n",
        "    x2, y2: Coordenadas del segundo punto (P2)\n",
        "\n",
        "    Retorna:\n",
        "    float: Distancia entre P1 y P2\n",
        "    \"\"\"\n",
        "    distancia = math.sqrt((x2 - x1)**2 + (y2 - y1)**2)\n",
        "    return distancia"
      ],
      "metadata": {
        "id": "rKes7ySm8LJy"
      },
      "execution_count": null,
      "outputs": []
    },
    {
      "cell_type": "markdown",
      "source": [
        "#**Ejercicio 10**:\n",
        "Programe un script que determine si dos rectas dadas por las ecuaciones y1=m1x + b1 y y2=m2x+b2 se\n",
        "intersectan, son paralelas o coincidentes. Utilice estructuras de control (IF - ELSE)\n",
        "para manejar los diferentes casos.\n"
      ],
      "metadata": {
        "id": "YZ1CmeGNUfd6"
      }
    },
    {
      "cell_type": "code",
      "source": [
        "def analizar_rectas(m1, b1, m2, b2):\n",
        "    \"\"\"\n",
        "    Determina si dos rectas se intersectan, son paralelas o coincidentes.\n",
        "\n",
        "    Parámetros:\n",
        "    m1, b1: Pendiente y ordenada al origen de la primera recta (y = m1*x + b1)\n",
        "    m2, b2: Pendiente y ordenada al origen de la segunda recta (y = m2*x + b2)\n",
        "\n",
        "    Retorna:\n",
        "    str: Mensaje indicando la relación entre las rectas\n",
        "    \"\"\"\n",
        "    if m1 == m2:\n",
        "        if b1 == b2:\n",
        "            return \"Las rectas son COINCIDENTES (la misma recta)\"\n",
        "        else:\n",
        "            return \"Las rectas son PARALELAS (no se intersectan)\"\n",
        "    else:\n",
        "        # Calcular punto de intersección\n",
        "        x_interseccion = (b2 - b1) / (m1 - m2)\n",
        "        y_interseccion = m1 * x_interseccion + b1\n",
        "        return f\"Las rectas se INTERSECTAN en el punto ({x_interseccion:.2f}, {y_interseccion:.2f})\"\n",
        "\n",
        "def main():\n",
        "    print(\"ANALIZADOR DE RELACIÓN ENTRE DOS RECTAS\")\n",
        "    print(\"Formato de ecuación: y = mx + b\")\n",
        "    print(\"-------------------------------------\")\n",
        "\n",
        "    try:\n",
        "        # Ingresar parámetros de las rectas\n",
        "        m1 = float(input(\"Ingrese la pendiente (m1) de la primera recta: \"))\n",
        "        b1 = float(input(\"Ingrese la ordenada al origen (b1) de la primera recta: \"))\n",
        "        m2 = float(input(\"Ingrese la pendiente (m2) de la segunda recta: \"))\n",
        "        b2 = float(input(\"Ingrese la ordenada al origen (b2) de la segunda recta: \"))\n",
        "\n",
        "        # Analizar relación entre rectas\n",
        "        resultado = analizar_rectas(m1, b1, m2, b2)\n",
        "        print(\"\\nResultado:\")\n",
        "        print(resultado)\n",
        "\n",
        "    except ValueError:\n",
        "        print(\"Error: Por favor ingrese valores numéricos válidos\")\n",
        "\n",
        "#Ejecutar el programa\n",
        "main()"
      ],
      "metadata": {
        "id": "oTNVz98W8LuZ",
        "colab": {
          "base_uri": "https://localhost:8080/"
        },
        "outputId": "b80fa97a-d9ee-44e1-8a2c-a8ccfb75dc97"
      },
      "execution_count": 10,
      "outputs": [
        {
          "output_type": "stream",
          "name": "stdout",
          "text": [
            "JUEGO DE DADOS - Iván vs Miguel\n",
            "Reglas:\n",
            "1. Si sale 1, vuelven a lanzar\n",
            "2. Si sale 6, empatan\n",
            "3. Si sale 2 o 3, gana Iván\n",
            "4. Si sale 4 o 5, gana Miguel\n",
            "---------------------------------\n",
            "Presiona Enter para lanzar el dado...\n",
            "\n",
            "El dado cayó en: 4\n",
            "¡Gana Miguel!\n"
          ]
        }
      ]
    },
    {
      "cell_type": "markdown",
      "source": [
        "#**Ejercicio 11**:\n",
        "Iván y Miguel quieren jugar a los dados con las siguientes reglas:\n",
        "\n",
        "    Si sale 1, vuelven a lanzar.\n",
        "    Si sale 6, quedan empatados.\n",
        "    Si sale 2 ó 3 gana Iván.\n",
        "    Si sale 4 ó 5 gana Miguel.\n",
        "\n",
        "Haga un programa que le permita jugar a Iván y Miguel utilizando el condicional while. Se debe imprimir el mensaje de acuerdo a las reglas establecidas.\n",
        "**Hint** = Utilice la librería random para generar los números aleatorios."
      ],
      "metadata": {
        "id": "qdHirPx6I2ib"
      }
    },
    {
      "cell_type": "code",
      "source": [
        "import random\n",
        "\n",
        "def jugar_dados():\n",
        "    \"\"\"\n",
        "    Simula un juego de dados entre Iván y Miguel según las reglas establecidas.\n",
        "    \"\"\"\n",
        "    print(\"JUEGO DE DADOS - Iván vs Miguel\")\n",
        "    print(\"Reglas:\")\n",
        "    print(\"1. Si sale 1, vuelven a lanzar\")\n",
        "    print(\"2. Si sale 6, empatan\")\n",
        "    print(\"3. Si sale 2 o 3, gana Iván\")\n",
        "    print(\"4. Si sale 4 o 5, gana Miguel\")\n",
        "    print(\"---------------------------------\")\n",
        "\n",
        "    while True:\n",
        "        input(\"Presiona Enter para lanzar el dado...\")\n",
        "        resultado = random.randint(1, 6)\n",
        "        print(f\"\\nEl dado cayó en: {resultado}\")\n",
        "\n",
        "        if resultado == 1:\n",
        "            print(\"Vuelven a lanzar...\")\n",
        "            continue\n",
        "        elif resultado == 6:\n",
        "            print(\"¡Empate!\")\n",
        "            break\n",
        "        elif resultado == 2 or resultado == 3:\n",
        "            print(\"¡Gana Iván!\")\n",
        "            break\n",
        "        elif resultado == 4 or resultado == 5:\n",
        "            print(\"¡Gana Miguel!\")\n",
        "            break\n",
        "\n",
        "# Iniciar el juego\n",
        "jugar_dados()"
      ],
      "metadata": {
        "id": "UFqiiIdzIp9i"
      },
      "execution_count": null,
      "outputs": []
    },
    {
      "cell_type": "markdown",
      "source": [
        "#**Ejercicio 12:**\n",
        "\n",
        "Genere una lista de 30 números aleatorios entre 1 y 10. Posteriormente, calcule:\n",
        "\n",
        "1.- La media\n",
        "\n",
        "2.- La mediana\n",
        "\n",
        "3.- La moda\n",
        "\n",
        "4.- La varianza\n",
        "\n",
        "5.- La desviación estándar\n",
        "\n",
        "Escriba las fórmulas asociadas a cada parámetro. Explique como se obtiene la moda. Consulte un texto de estadística para llevar a cabo los cálculos e imprima\n",
        "en pantalla la lista y los resultados.\n"
      ],
      "metadata": {
        "id": "7K_Zv4meItQi"
      }
    },
    {
      "cell_type": "code",
      "source": [
        "import random\n",
        "import math\n",
        "\n",
        "# Generar lista de 30 números aleatorios entre 1 y 10\n",
        "datos = [random.randint(1, 10) for _ in range(30)]\n",
        "\n",
        "# 1. Media (Promedio)\n",
        "def calcular_media(lista):\n",
        "    \"\"\"Media = Σx_i / n\"\"\"\n",
        "    return sum(lista) / len(lista)\n",
        "\n",
        "# 2. Mediana\n",
        "def calcular_mediana(lista):\n",
        "    \"\"\"Mediana = Valor central en datos ordenados\"\"\"\n",
        "    lista_ordenada = sorted(lista)\n",
        "    n = len(lista_ordenada)\n",
        "    if n % 2 == 1:\n",
        "        return lista_ordenada[n//2]\n",
        "    else:\n",
        "        return (lista_ordenada[n//2 - 1] + lista_ordenada[n//2]) / 2\n",
        "\n",
        "# 3. Moda\n",
        "def calcular_moda(lista):\n",
        "    \"\"\"Moda = Valor(es) que aparece(n) con mayor frecuencia\"\"\"\n",
        "    frecuencias = {}\n",
        "    for num in lista:\n",
        "        frecuencias[num] = frecuencias.get(num, 0) + 1\n",
        "\n",
        "    max_frecuencia = max(frecuencias.values())\n",
        "    moda = [num for num, freq in frecuencias.items() if freq == max_frecuencia]\n",
        "\n",
        "    return moda[0] if len(moda) == 1 else moda\n",
        "\n",
        "# 4. Varianza\n",
        "def calcular_varianza(lista, media):\n",
        "    \"\"\"Varianza = Σ(x_i - media)² / n\"\"\"\n",
        "    return sum((x - media)**2 for x in lista) / len(lista)\n",
        "\n",
        "# 5. Desviación estándar\n",
        "def calcular_desviacion_estandar(varianza):\n",
        "    \"\"\"Desviación estándar = √varianza\"\"\"\n",
        "    return math.sqrt(varianza)\n",
        "\n",
        "# Calcular todas las métricas\n",
        "media = calcular_media(datos)\n",
        "mediana = calcular_mediana(datos)\n",
        "moda = calcular_moda(datos)\n",
        "varianza = calcular_varianza(datos, media)\n",
        "desviacion = calcular_desviacion_estandar(varianza)\n",
        "\n",
        "# Mostrar resultados\n",
        "print(\"Lista de números generados:\")\n",
        "print(datos)\n",
        "print(\"\\nResultados estadísticos:\")\n",
        "print(f\"1. Media: {media:.2f}\")\n",
        "print(f\"2. Mediana: {mediana}\")\n",
        "print(f\"3. Moda: {moda}\")\n",
        "print(f\"4. Varianza: {varianza:.2f}\")\n",
        "print(f\"5. Desviación estándar: {desviacion:.2f}\")"
      ],
      "metadata": {
        "colab": {
          "base_uri": "https://localhost:8080/"
        },
        "id": "H9Z5AtxK_0Mq",
        "outputId": "a82abd32-b0bd-4b74-915a-7eed99bb8031"
      },
      "execution_count": 12,
      "outputs": [
        {
          "output_type": "stream",
          "name": "stdout",
          "text": [
            "Lista de números generados:\n",
            "[4, 2, 2, 1, 5, 9, 10, 10, 4, 1, 5, 10, 3, 5, 1, 1, 2, 1, 3, 7, 8, 3, 5, 9, 8, 2, 5, 8, 3, 8]\n",
            "\n",
            "Resultados estadísticos:\n",
            "1. Media: 4.83\n",
            "2. Mediana: 4.5\n",
            "3. Moda: [1, 5]\n",
            "4. Varianza: 9.34\n",
            "5. Desviación estándar: 3.06\n"
          ]
        }
      ]
    }
  ]
}