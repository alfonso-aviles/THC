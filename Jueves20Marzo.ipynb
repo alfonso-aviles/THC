{
  "nbformat": 4,
  "nbformat_minor": 0,
  "metadata": {
    "colab": {
      "provenance": [],
      "authorship_tag": "ABX9TyPaUOeb9vtSR3x8OxLYS4zr",
      "include_colab_link": true
    },
    "kernelspec": {
      "name": "python3",
      "display_name": "Python 3"
    },
    "language_info": {
      "name": "python"
    }
  },
  "cells": [
    {
      "cell_type": "markdown",
      "metadata": {
        "id": "view-in-github",
        "colab_type": "text"
      },
      "source": [
        "<a href=\"https://colab.research.google.com/github/alfonso-aviles/THC/blob/main/Jueves20Marzo.ipynb\" target=\"_parent\"><img src=\"https://colab.research.google.com/assets/colab-badge.svg\" alt=\"Open In Colab\"/></a>"
      ]
    },
    {
      "cell_type": "code",
      "source": [
        "#Escribe un programa que imprima los primeros 10 múltiplos de 3 utilizando un ciclo for (while)\n",
        "for i in range (1,11):\n",
        "  print(i*3)"
      ],
      "metadata": {
        "id": "IyStlhmi1t1K"
      },
      "execution_count": null,
      "outputs": []
    },
    {
      "cell_type": "code",
      "execution_count": null,
      "metadata": {
        "id": "v-S3bLSCwhN4",
        "colab": {
          "base_uri": "https://localhost:8080/"
        },
        "outputId": "7d36b22c-36f7-421c-ab43-de369ac65ed1"
      },
      "outputs": [
        {
          "output_type": "stream",
          "name": "stdout",
          "text": [
            "Ingresa tu número: 1\n",
            "1x1=  1\n",
            "1x2=  2\n",
            "1x3=  3\n",
            "1x4=  4\n",
            "1x5=  5\n",
            "1x6=  6\n",
            "1x7=  7\n",
            "1x8=  8\n",
            "1x9=  9\n",
            "1x10=  10\n"
          ]
        }
      ],
      "source": [
        "#Esribe un propgrama que solicite al usuario un número y muestre su tabla de multiplicar hasta el 10\n",
        "n = int(input(\"Ingresa tu número: \"))\n",
        "for i in range (1, 11):\n",
        "  print (f\"{n}x{i}= \",n*i)"
      ]
    },
    {
      "cell_type": "code",
      "source": [
        "#Escribe un programa que solicite números al usuario y los sume hasta ingresar 0\n",
        "suma = 0\n",
        "n= 1\n",
        "while n != 0:\n",
        "  n = float(input(\"Ingresa un número: \"))\n",
        "  suma += n\n",
        "print(suma)"
      ],
      "metadata": {
        "id": "z97hJrrFxvH9",
        "colab": {
          "base_uri": "https://localhost:8080/"
        },
        "outputId": "90fb3a70-c745-4b1b-e19b-c8607e6d53df"
      },
      "execution_count": null,
      "outputs": [
        {
          "output_type": "stream",
          "name": "stdout",
          "text": [
            "Ingresa un número: 12\n",
            "Ingresa un número: 13\n",
            "Ingresa un número: 0\n",
            "25.0\n"
          ]
        }
      ]
    },
    {
      "cell_type": "code",
      "source": [
        "frutas = [\"manzana\", \"banana\", \"kiwi\", \"uva\"]\n",
        "print (frutas)"
      ],
      "metadata": {
        "colab": {
          "base_uri": "https://localhost:8080/"
        },
        "id": "dV0hQZ5b8U7f",
        "outputId": "7fff7f51-d764-4c62-e463-d06cd0636417"
      },
      "execution_count": 38,
      "outputs": [
        {
          "output_type": "stream",
          "name": "stdout",
          "text": [
            "['manzana', 'banana', 'kiwi', 'uva']\n"
          ]
        }
      ]
    },
    {
      "cell_type": "code",
      "source": [
        "frutas[1]=\"pera\"\n",
        "print (frutas)"
      ],
      "metadata": {
        "colab": {
          "base_uri": "https://localhost:8080/"
        },
        "id": "E_BfFR-R8op9",
        "outputId": "57534321-e840-4701-f45f-e614da6d77c0"
      },
      "execution_count": 39,
      "outputs": [
        {
          "output_type": "stream",
          "name": "stdout",
          "text": [
            "['manzana', 'pera', 'kiwi', 'uva']\n"
          ]
        }
      ]
    },
    {
      "cell_type": "code",
      "source": [
        "frutas [-2]"
      ],
      "metadata": {
        "colab": {
          "base_uri": "https://localhost:8080/",
          "height": 35
        },
        "id": "tXAR2I9q8wFu",
        "outputId": "ab88db48-0839-4984-b495-1a5f13c574e2"
      },
      "execution_count": 40,
      "outputs": [
        {
          "output_type": "execute_result",
          "data": {
            "text/plain": [
              "'kiwi'"
            ],
            "application/vnd.google.colaboratory.intrinsic+json": {
              "type": "string"
            }
          },
          "metadata": {},
          "execution_count": 40
        }
      ]
    },
    {
      "cell_type": "code",
      "source": [
        "len(frutas)"
      ],
      "metadata": {
        "colab": {
          "base_uri": "https://localhost:8080/"
        },
        "id": "7dyGRxzk81_B",
        "outputId": "385171f9-1e94-4f2c-f9ed-d7ca56263552"
      },
      "execution_count": 41,
      "outputs": [
        {
          "output_type": "execute_result",
          "data": {
            "text/plain": [
              "4"
            ]
          },
          "metadata": {},
          "execution_count": 41
        }
      ]
    },
    {
      "cell_type": "code",
      "source": [
        "frutas.remove(\"kiwi\")\n",
        "frutas"
      ],
      "metadata": {
        "colab": {
          "base_uri": "https://localhost:8080/"
        },
        "id": "pXfQQCvv9gIP",
        "outputId": "e52b5f5c-f6ee-494b-9b1f-660354dadb8d"
      },
      "execution_count": 44,
      "outputs": [
        {
          "output_type": "execute_result",
          "data": {
            "text/plain": [
              "['manzana', 'pera', 'uva']"
            ]
          },
          "metadata": {},
          "execution_count": 44
        }
      ]
    },
    {
      "cell_type": "code",
      "source": [
        "print(type(frutas))"
      ],
      "metadata": {
        "colab": {
          "base_uri": "https://localhost:8080/"
        },
        "id": "R025tb0e9s4H",
        "outputId": "a590b7b0-9d75-4495-e444-b52c00b85c3c"
      },
      "execution_count": 43,
      "outputs": [
        {
          "output_type": "stream",
          "name": "stdout",
          "text": [
            "<class 'list'>\n"
          ]
        }
      ]
    },
    {
      "cell_type": "code",
      "source": [
        "frutas = list(frutas)\n",
        "frutas.append(\"naranja\")\n",
        "frutas"
      ],
      "metadata": {
        "colab": {
          "base_uri": "https://localhost:8080/"
        },
        "id": "PL5W5SdK-Au0",
        "outputId": "ca1133e1-aeb8-4cac-9f8c-e098c07ad4d4"
      },
      "execution_count": 59,
      "outputs": [
        {
          "output_type": "execute_result",
          "data": {
            "text/plain": [
              "['manzana', 'banana', 'naranja', 'kiwi', 'naranja']"
            ]
          },
          "metadata": {},
          "execution_count": 59
        }
      ]
    },
    {
      "cell_type": "code",
      "source": [
        "frutas[2:3]"
      ],
      "metadata": {
        "colab": {
          "base_uri": "https://localhost:8080/"
        },
        "id": "WL-55EIaATYZ",
        "outputId": "3c4fab70-6f0c-4a8f-82a7-598f7835c6f2"
      },
      "execution_count": 53,
      "outputs": [
        {
          "output_type": "execute_result",
          "data": {
            "text/plain": [
              "()"
            ]
          },
          "metadata": {},
          "execution_count": 53
        }
      ]
    },
    {
      "cell_type": "code",
      "source": [
        "frutas = (\"manzana\", \"pera\")\n",
        "frutas1 = (\"guayaba\", \"mango\")\n",
        "frutas + frutas1"
      ],
      "metadata": {
        "colab": {
          "base_uri": "https://localhost:8080/"
        },
        "id": "0S3ApXB8--_X",
        "outputId": "2c14b68b-25df-465f-d267-a9218dd2893b"
      },
      "execution_count": 52,
      "outputs": [
        {
          "output_type": "execute_result",
          "data": {
            "text/plain": [
              "('manzana', 'pera', 'guayaba', 'mango')"
            ]
          },
          "metadata": {},
          "execution_count": 52
        }
      ]
    },
    {
      "cell_type": "code",
      "source": [
        "frutas = (\"manzana\", \"banana\", \"naranja\", \"kiwi\")\n",
        "for i in frutas:\n",
        "  print(i)"
      ],
      "metadata": {
        "colab": {
          "base_uri": "https://localhost:8080/"
        },
        "id": "sqroCoxUBEMU",
        "outputId": "aebf2c4e-4473-4cdb-d7e8-242bbefbf9e0"
      },
      "execution_count": 57,
      "outputs": [
        {
          "output_type": "stream",
          "name": "stdout",
          "text": [
            "manzana\n",
            "banana\n",
            "naranja\n",
            "kiwi\n"
          ]
        }
      ]
    },
    {
      "cell_type": "code",
      "source": [
        "#Escribe un programa que sume todos los números enteros de una lista\n",
        "numeros = [1.2, 5, 6, 10.2, 5.3, 3, 9, 8, 7, 1.3]\n",
        "suma = 0\n",
        "for i in numeros:\n",
        "  if type(i) == int:\n",
        "      suma += i\n",
        "print(suma)"
      ],
      "metadata": {
        "colab": {
          "base_uri": "https://localhost:8080/"
        },
        "id": "vixri74WCLPJ",
        "outputId": "fa0dd417-9aab-4ce0-8412-20a83f6787ba"
      },
      "execution_count": 63,
      "outputs": [
        {
          "output_type": "stream",
          "name": "stdout",
          "text": [
            "38\n"
          ]
        }
      ]
    }
  ]
}