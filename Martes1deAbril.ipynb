{
  "nbformat": 4,
  "nbformat_minor": 0,
  "metadata": {
    "colab": {
      "provenance": [],
      "authorship_tag": "ABX9TyPnOfp6GHaHBbqnj5Dzrt6Q",
      "include_colab_link": true
    },
    "kernelspec": {
      "name": "python3",
      "display_name": "Python 3"
    },
    "language_info": {
      "name": "python"
    }
  },
  "cells": [
    {
      "cell_type": "markdown",
      "metadata": {
        "id": "view-in-github",
        "colab_type": "text"
      },
      "source": [
        "<a href=\"https://colab.research.google.com/github/alfonso-aviles/THC/blob/main/Martes1deAbril.ipynb\" target=\"_parent\"><img src=\"https://colab.research.google.com/assets/colab-badge.svg\" alt=\"Open In Colab\"/></a>"
      ]
    },
    {
      "cell_type": "code",
      "execution_count": 2,
      "metadata": {
        "colab": {
          "base_uri": "https://localhost:8080/"
        },
        "id": "-8dCNQBoinO8",
        "outputId": "ac938f3e-5a69-4561-8010-4de71cacd4f3"
      },
      "outputs": [
        {
          "output_type": "stream",
          "name": "stdout",
          "text": [
            "Ingrese la operación que desea realizar (suma,resta,multiplicacion,division): resta\n",
            "Ingrese el primer número: 12\n",
            "Ingrese el segundo número: 12\n",
            "El resultado es 0\n"
          ]
        }
      ],
      "source": [
        "#Crear una calculadora que acepte dos números y una operación (suma,resta,multiplicación,división)\n",
        "#como entrada y utilice funciones lamba para realizar la función deseada.\n",
        "operacion = input(\"Ingrese la operación que desea realizar (suma,resta,multiplicacion,division): \")\n",
        "x = int(input(\"Ingrese el primer número: \"))\n",
        "y = int(input(\"Ingrese el segundo número: \"))\n",
        "operaciones = {\n",
        "    \"suma\": lambda x,y: x+y,\n",
        "    \"resta\": lambda x,y: x-y,\n",
        "    \"multiplicacion\": lambda x,y: x*y,\n",
        "    \"division\": lambda x,y: x/y}\n",
        "print(\"El resultado es\", operaciones[operacion](x,y))\n",
        "\n"
      ]
    },
    {
      "cell_type": "code",
      "source": [
        "#Crear una calculadora que acepte dos números y una operación (suma,resta,multiplicación,división)\n",
        "#como entrada y utilice funciones lambda para realizar la función deseada.\n",
        "operacion = input(\"Ingrese la operación que desea realizar (suma,resta,multiplicacion,division): \")\n",
        "x = int(input(\"Ingrese el primer número: \"))\n",
        "y = int(input(\"Ingrese el segundo número: \"))\n",
        "def calculadora(x,y,operacion):\n",
        "  if operacion == \"suma\":\n",
        "    suma = lambda x,y: x+y\n",
        "    resultado = suma(x,y)\n",
        "  elif operacion == \"resta\":\n",
        "    resta = lambda x,y: x-y\n",
        "    resultado = resta(x,y)\n",
        "  elif operacion == \"multiplicacion\":\n",
        "    multiplicacion = lambda x,y: x*y\n",
        "    resultado = multiplicacion(x,y)\n",
        "  elif operacion == \"division\":\n",
        "    if y ==0:\n",
        "      print(\"No se puede dividir entre cero\")\n",
        "      resultado=\"indefinido\"\n",
        "    else:\n",
        "      division = lambda x,y: x/y\n",
        "      resultado = division(x,y)\n",
        "  return resultado\n",
        "print(calculadora(x,y,operacion))"
      ],
      "metadata": {
        "colab": {
          "base_uri": "https://localhost:8080/"
        },
        "id": "GNxk75nckIPH",
        "outputId": "7ba14ca7-bddd-4c36-827e-d6a678454df9"
      },
      "execution_count": 13,
      "outputs": [
        {
          "output_type": "stream",
          "name": "stdout",
          "text": [
            "Ingrese la operación que desea realizar (suma,resta,multiplicacion,division): division\n",
            "Ingrese el primer número: 12\n",
            "Ingrese el segundo número: 0\n",
            "No se puede dividir entre cero\n",
            "indefinido\n"
          ]
        }
      ]
    },
    {
      "cell_type": "code",
      "source": [
        "import random\n",
        "mylist = [\"apple\", \"banana\", \"cherry\"]\n",
        "print(random.choice(mylist))"
      ],
      "metadata": {
        "colab": {
          "base_uri": "https://localhost:8080/"
        },
        "id": "W4DOZNfIpwIO",
        "outputId": "88b3f76a-6d40-488f-f490-1e157aea19cd"
      },
      "execution_count": 14,
      "outputs": [
        {
          "output_type": "stream",
          "name": "stdout",
          "text": [
            "apple\n"
          ]
        }
      ]
    },
    {
      "cell_type": "code",
      "source": [
        "import random\n",
        "mylist = [\"apple\", \"banana\", \"cherry\",\"kiwi\",\"grapes\"]\n",
        "print(random.choices(mylist,k=2))"
      ],
      "metadata": {
        "colab": {
          "base_uri": "https://localhost:8080/"
        },
        "id": "C4O6NkLsvu0z",
        "outputId": "f699ed50-d497-42b4-d58a-8dcfc26366f0"
      },
      "execution_count": 39,
      "outputs": [
        {
          "output_type": "stream",
          "name": "stdout",
          "text": [
            "['kiwi', 'cherry']\n"
          ]
        }
      ]
    },
    {
      "cell_type": "code",
      "source": [
        "import numpy as np"
      ],
      "metadata": {
        "id": "OEC1P8Gyw6Hr"
      },
      "execution_count": 40,
      "outputs": []
    },
    {
      "cell_type": "code",
      "source": [
        "arr = np.array([1,2,3,4,5])\n",
        "print(arr)\n",
        "print(type(arr))"
      ],
      "metadata": {
        "colab": {
          "base_uri": "https://localhost:8080/"
        },
        "id": "nji6J170w8oi",
        "outputId": "eb683240-98fc-473e-b727-70f5d3a7e1c8"
      },
      "execution_count": 41,
      "outputs": [
        {
          "output_type": "stream",
          "name": "stdout",
          "text": [
            "[1 2 3 4 5]\n",
            "<class 'numpy.ndarray'>\n"
          ]
        }
      ]
    },
    {
      "cell_type": "code",
      "source": [
        "print(arr + 1)\n",
        "print(arr * 3)\n",
        "print(arr ** 2)"
      ],
      "metadata": {
        "colab": {
          "base_uri": "https://localhost:8080/"
        },
        "id": "ZL7YuDgQxWC0",
        "outputId": "d55a3e83-9b76-439a-e838-3cc4baca2d2a"
      },
      "execution_count": 43,
      "outputs": [
        {
          "output_type": "stream",
          "name": "stdout",
          "text": [
            "[2 3 4 5 6]\n",
            "[ 3  6  9 12 15]\n",
            "[ 1  4  9 16 25]\n"
          ]
        }
      ]
    },
    {
      "cell_type": "code",
      "source": [
        "arr1 = np.array([1,2,3,4,5])\n",
        "arr2 = np.array([6,7,8,9,10])\n",
        "print(arr1 + arr2)"
      ],
      "metadata": {
        "colab": {
          "base_uri": "https://localhost:8080/"
        },
        "id": "YFADuOEfyHu3",
        "outputId": "3fd5c5ab-ea99-4044-e65a-cc278e444a7d"
      },
      "execution_count": 44,
      "outputs": [
        {
          "output_type": "stream",
          "name": "stdout",
          "text": [
            "[ 7  9 11 13 15]\n"
          ]
        }
      ]
    },
    {
      "cell_type": "code",
      "source": [
        "arr3 = np.array([[1,2,3],[4,5,6]])\n",
        "print(arr3)"
      ],
      "metadata": {
        "colab": {
          "base_uri": "https://localhost:8080/"
        },
        "id": "mmue8-jRyMTj",
        "outputId": "da27f26a-fcab-44de-e64d-18ce664d6b0c"
      },
      "execution_count": 45,
      "outputs": [
        {
          "output_type": "stream",
          "name": "stdout",
          "text": [
            "[[1 2 3]\n",
            " [4 5 6]]\n"
          ]
        }
      ]
    }
  ]
}